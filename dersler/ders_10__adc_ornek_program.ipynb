{
 "cells": [
  {
   "cell_type": "markdown",
   "metadata": {},
   "source": [
    "En temel Analof Dijital Çevrim programlama örneği: "
   ]
  },
  {
   "cell_type": "code",
   "execution_count": null,
   "metadata": {},
   "outputs": [],
   "source": [
    "#include \"stm32f4xx.h\" \n",
    "\n",
    "unsigned int adc;\n",
    "float voltaj;    \n",
    "\n",
    "int main ()  { \n",
    "    \n",
    "    int i;\n",
    "    \n",
    "    //A0 Pini kullanıldığı için A portuna clk sinyali veriliyor.\n",
    "    RCC->AHB1ENR |= RCC_AHB1ENR_GPIOAEN;\n",
    "    \n",
    "    //A portunun 0. pininin modu moder yazmacının ilgili kısmına 11 yazılarak analog olarak ayarlandi.\n",
    "    GPIOA->MODER |= GPIO_MODER_MODE0_0 | GPIO_MODER_MODE0_1; \n",
    "\n",
    "    //ADC1 APB2 busına bagli oldugu icin APB2'nin clocku etkinlestirildi.\n",
    "    RCC->APB2ENR |= RCC_APB2ENR_ADC1EN; \n",
    "    \n",
    "    //Devamli Mod: bir çevrim işlemi bittiğinde otomatik olarak diğer işlem başlayacak\n",
    "    ADC1->CR2 |=ADC_CR2_CONT;\n",
    "    \n",
    "    //ADC'ye enerji veriliyor. \n",
    "    ADC1->CR2 |= ADC_CR2_ADON;\n",
    "    \n",
    "    //Stabil hale gelmesi için bir süre bekleniyor.\n",
    "    for(i=0;i<10000;i++);\n",
    "\n",
    "    //Analog-Dijital Çevrime Basla\n",
    "    ADC1->CR2 |= ADC_CR2_SWSTART;\n",
    "\n",
    "    \n",
    "    while(1){\n",
    "        \n",
    "        for(i=0;i<10000;i++);\n",
    "\n",
    "        adc=ADC1->DR;\n",
    "        \n",
    "        voltaj= ((float)adc/4096)*3.3;\n",
    "        \n",
    "    }\n",
    "    \n",
    "    return 1;\n",
    "}\n"
   ]
  }
 ],
 "metadata": {
  "kernelspec": {
   "display_name": "C++14",
   "language": "C++14",
   "name": "xeus-cling-cpp14"
  },
  "language_info": {
   "codemirror_mode": "text/x-c++src",
   "file_extension": ".cpp",
   "mimetype": "text/x-c++src",
   "name": "c++",
   "version": "-std=c++14"
  }
 },
 "nbformat": 4,
 "nbformat_minor": 2
}
