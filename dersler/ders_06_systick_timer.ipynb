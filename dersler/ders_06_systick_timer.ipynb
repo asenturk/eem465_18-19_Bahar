{
 "cells": [
  {
   "cell_type": "markdown",
   "metadata": {},
   "source": [
    "Membran keypadın kullanımı ile ilgili örnek:"
   ]
  },
  {
   "cell_type": "code",
   "execution_count": null,
   "metadata": {},
   "outputs": [],
   "source": [
    "#include \"stm32f4xx.h\"                  // Device header\n",
    "\n",
    "void delay();\n",
    "\n",
    "int main(){\n",
    "    \n",
    "    int i,j;\n",
    "    char selected;\n",
    "    char keypad[4][4]= {{'1','2','3','A'},\n",
    "                        {'4','5','6','B'},\n",
    "                        {'7','8','9','C'},\n",
    "                        {'*','0','#','D'}};\n",
    "    \n",
    "\n",
    "    RCC->AHB1ENR |= RCC_AHB1ENR_GPIODEN | RCC_AHB1ENR_GPIOEEN;\n",
    "    \n",
    "    // E PORTUNUN 9, 10, 11, 12. pinleri output modunda ayarlandı.\n",
    "    GPIOE->MODER |= GPIO_MODER_MODER9_0 | GPIO_MODER_MODER10_0 | GPIO_MODER_MODER11_0 | GPIO_MODER_MODER12_0;\n",
    "    \n",
    "    // 1. secenek:\n",
    "    //inputların pull down modu aşağıdaki yorumda gösterilen şekilde ayarlama yapılabilir.\n",
    "    // D PORTUNUN 11,12,13,14. PINLERI INPUT MODUNDA\n",
    "    //GPIOD->PUPDR |= GPIO_PUPDR_PUPD11_1 | GPIO_PUPDR_PUPD12_1 | GPIO_PUPDR_PUPD13_1 | GPIO_PUPDR_PUPD14_1;\n",
    "    \n",
    "    //2. seçenek D PORTUNUN tüm pinleri for döngüsü ile pull down moduna ayarlandı.\n",
    "    for(i=0; i<=30; i=i+2){\n",
    "        GPIOD->PUPDR |= (0x2UL << i);\n",
    "    }\n",
    "    \n",
    "    \n",
    "    \n",
    "    while(1){\n",
    "        \n",
    "        for(i=9;i<=12;i++){ //satır tarama\n",
    "            GPIOE->ODR |= (0X1UL << i);\n",
    "            \n",
    "            for(j=11;j<=14;j++){ //sütun kontrol\n",
    "                \n",
    "                if(GPIOD->IDR & (0x1UL << j)){\n",
    "                    selected=keypad[i-9][j-11];\n",
    "                }                    \n",
    "            }\n",
    "            delay();\n",
    "            GPIOE->ODR &= ~(0X1UL << i);    \n",
    "        }\n",
    "    }\n",
    "    return 0;\n",
    "}\n",
    "\n",
    "void delay(){\n",
    "    int i;\n",
    "    for(i=0;i<50000;i++);\n",
    "}"
   ]
  }
 ],
 "metadata": {
  "kernelspec": {
   "display_name": "C++14",
   "language": "C++14",
   "name": "xeus-cling-cpp14"
  },
  "language_info": {
   "codemirror_mode": "text/x-c++src",
   "file_extension": ".cpp",
   "mimetype": "text/x-c++src",
   "name": "c++",
   "version": "-std=c++14"
  }
 },
 "nbformat": 4,
 "nbformat_minor": 2
}
