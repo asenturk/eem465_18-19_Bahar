{
 "cells": [
  {
   "cell_type": "markdown",
   "metadata": {},
   "source": [
    "stm32f4 mikrokontrolcüsünde olan Basic Timer (TIM6) kullanılması ile ilgili örnek program.   \n",
    "Bu programda Kart üzerindeki Mavi LED 0.2 saniye yanıp sönmektedir."
   ]
  },
  {
   "cell_type": "code",
   "execution_count": null,
   "metadata": {},
   "outputs": [],
   "source": [
    "#include \"stm32f4xx.h\"\n",
    "\n",
    "int i=0;\n",
    "\n",
    "void TIM6_DAC_IRQHandler(void){\n",
    "    //Status Register\n",
    "    TIM6->SR &= ~TIM_SR_UIF; //update interrupt flag\n",
    "    if(i%2==0)\n",
    "        GPIOD->ODR |= GPIO_ODR_OD15;\n",
    "    else\n",
    "        GPIOD->ODR &= ~GPIO_ODR_OD15;\n",
    "    i++;\n",
    "}\n",
    "\n",
    "\n",
    "int main(){\n",
    "    //TIMER 6 ve 7 APB1 busına bağlı olduğu için\n",
    "    //RCC'nin APB1 busı ile ilgili yazmacının TIM6 \n",
    "    //çevrim sinyalini aktif hale getiriyoruz.\n",
    "    RCC->APB1ENR |= RCC_APB1ENR_TIM6EN;\n",
    "    \n",
    "    RCC->AHB1ENR |= RCC_AHB1ENR_GPIODEN;\n",
    "    GPIOD->MODER |= GPIO_MODER_MODE15_0;\n",
    "    \n",
    "    //TIMER 6'nın interruptını NVIC te aktifleştiriyoruz.\n",
    "    NVIC_EnableIRQ(TIM6_DAC_IRQn);\n",
    "    \n",
    "    //DMA Interrupt Enable Reg\n",
    "    TIM6->DIER |= TIM_DIER_UIE; //Update Interrupt Enable\n",
    "    \n",
    "    //Prescaler, önce yazmaç temizleniyor.   \n",
    "    //Sonra yazmak istediğimiz değeri yazıyoruz.\n",
    "    TIM6->PSC &= ~0xFFFFU;\n",
    "    TIM6->PSC |= (0xFFFFU & 99U);\n",
    "    \n",
    "    //Autoreload register, önce yazmaç temizleniyor.   \n",
    "    //Sonra yazmak istediğimiz değeri yazıyoruz.\n",
    "    TIM6->ARR &= ~0xFFFFU;\n",
    "    TIM6->ARR |= (0xFFFFU & 32000U);\n",
    "    \n",
    "    //Control Register 1\n",
    "    TIM6->CR1 |= TIM_CR1_CEN; //Counter enable\n",
    "    \n",
    "    while(1);\n",
    "    \n",
    "    return 1;\n",
    "}\n"
   ]
  }
 ],
 "metadata": {
  "kernelspec": {
   "display_name": "C++14",
   "language": "C++14",
   "name": "xeus-cling-cpp14"
  },
  "language_info": {
   "codemirror_mode": "text/x-c++src",
   "file_extension": ".cpp",
   "mimetype": "text/x-c++src",
   "name": "c++",
   "version": "-std=c++14"
  }
 },
 "nbformat": 4,
 "nbformat_minor": 2
}
