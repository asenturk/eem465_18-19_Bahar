{
 "cells": [
  {
   "cell_type": "markdown",
   "metadata": {},
   "source": [
    "Butona her basıldığında kart üzerindeki LEDler sırasıyla yanacak. Bu işlem kesme (interrupt) ile yapılacak."
   ]
  },
  {
   "cell_type": "markdown",
   "metadata": {},
   "source": [
    "main fonksiyonu şu şekilde:  \n",
    "Öncelikle her zaman olduğu gibi buton için A portuna, LEDler için D portuna clk sinyali veriyoruz. Ayrıca LEDleri output modunda ayarlıyoruz."
   ]
  },
  {
   "cell_type": "code",
   "execution_count": null,
   "metadata": {},
   "outputs": [],
   "source": [
    "//A ve D portlari etkinlestirildi\n",
    "RCC->AHB1ENR |= RCC_AHB1ENR_GPIOAEN;\n",
    "RCC->AHB1ENR |= RCC_AHB1ENR_GPIODEN;\n",
    "\n",
    "//D portunun 12,13,14,15. pinleri output olarak ayarlandi.\n",
    "GPIOD->MODER |= (GPIO_MODER_MODE12_0 | GPIO_MODER_MODE13_0\n",
    "| GPIO_MODER_MODE14_0 | GPIO_MODER_MODE15_0);"
   ]
  },
  {
   "cell_type": "markdown",
   "metadata": {},
   "source": [
    "interrrupları A portunun 0. pininden alacağımız için EXTI0 kesmesini etkinleştirmek gerekli. Bu kesme vektör tablosunda 6 numaralı kesme olduğu için NVIC_EnableIRQ(6); şeklinde etkinleştirme yapılabilir. Ama header dosyasında enumeration yapısıyla EXTI0_IRQn ifadesine 6 sayısı atanmış. Dlayısıyla aktifleştirme işlemi şu şekilde yapılıyor:  "
   ]
  },
  {
   "cell_type": "code",
   "execution_count": null,
   "metadata": {},
   "outputs": [],
   "source": [
    "//NIVIC te 6 nolu interrupt etkinlesitirildi.\n",
    "//NVIC_EnableIRQ(6);\n",
    "NVIC_EnableIRQ(EXTI0_IRQn);"
   ]
  },
  {
   "cell_type": "markdown",
   "metadata": {},
   "source": [
    "sonraki adımda ilgili pin için interrupt maskesi etkinleştiriliyor: "
   ]
  },
  {
   "cell_type": "code",
   "execution_count": null,
   "metadata": {},
   "outputs": [],
   "source": [
    "// A portunun 0. pinine bagli buton icin interrupt maski etkinlestirildi.\n",
    "EXTI->IMR |= EXTI_IMR_IM0;"
   ]
  },
  {
   "cell_type": "markdown",
   "metadata": {},
   "source": [
    "Kesme işleminin sinyalin yükselen kenarında veya düşen kenarında olmasını ayarlamak gerekiyor."
   ]
  },
  {
   "cell_type": "code",
   "execution_count": null,
   "metadata": {},
   "outputs": [],
   "source": [
    "//A portunun 0. pinine bagli butona basildiginda 0'dan 1'e gecme durumunda interrup olacak.\n",
    "EXTI->RTSR |= EXTI_RTSR_TR0;"
   ]
  },
  {
   "cell_type": "markdown",
   "metadata": {},
   "source": [
    "Sonra programı sonsuz boş bir döngüde bırakıyoruz:"
   ]
  },
  {
   "cell_type": "code",
   "execution_count": null,
   "metadata": {},
   "outputs": [],
   "source": [
    "while(1);"
   ]
  },
  {
   "cell_type": "markdown",
   "metadata": {},
   "source": [
    "main fonksiyonunun dışında butona her basıldığını saymak için gloabal bir değişken tanımlanıyor:"
   ]
  },
  {
   "cell_type": "code",
   "execution_count": null,
   "metadata": {},
   "outputs": [],
   "source": [
    "unsigned long int LED_i=0;"
   ]
  },
  {
   "cell_type": "markdown",
   "metadata": {},
   "source": [
    "İnterrupt olduğunda cihazın nasıl davranacağını belirlemiş olduğumuz interrupt handler fonksiyonu şu şekilde tanımlanmalıdır:"
   ]
  },
  {
   "cell_type": "code",
   "execution_count": null,
   "metadata": {},
   "outputs": [],
   "source": [
    "void EXTI0_IRQHandler(void){\n",
    "\n",
    "}"
   ]
  },
  {
   "cell_type": "markdown",
   "metadata": {},
   "source": [
    "Yukarıdaki tanımlama projedeki assembly dosyasında belirlenmiştir.   \n",
    "İnterrupt handler fonksiyonuna eklenmesi gereken kodlar şu şekildedir:"
   ]
  },
  {
   "cell_type": "markdown",
   "metadata": {},
   "source": [
    "Öncelikle pending register kontrol edilir ve ilgili bite 1 yazılarak interruptla ilgili işlemler yapılmaya başlanır. Bu işlemin interruptun başında yapıması gerekmektedir."
   ]
  },
  {
   "cell_type": "code",
   "execution_count": null,
   "metadata": {},
   "outputs": [],
   "source": [
    "//pending register control\n",
    "if(EXTI->PR & EXTI_PR_PR0)\n",
    "    EXTI->PR |= EXTI_PR_PR0;"
   ]
  },
  {
   "cell_type": "markdown",
   "metadata": {},
   "source": [
    "daha sonracihazınızın interrupt işleminde nasıl çalışmasını istiyorsak ona göre programlamamızı yaparız. "
   ]
  },
  {
   "cell_type": "code",
   "execution_count": null,
   "metadata": {},
   "outputs": [],
   "source": [
    "LED_i++;\n",
    "\n",
    "//All LEDs are OFF\n",
    "GPIOD->ODR &= ~(GPIO_ODR_OD12 | GPIO_ODR_OD13 | GPIO_ODR_OD14 | GPIO_ODR_OD15);    \n",
    "// LED i ON        \n",
    "GPIOD->ODR |= 1U << (12+(LED_i%4));"
   ]
  },
  {
   "cell_type": "markdown",
   "metadata": {},
   "source": [
    "Yapılan tüm kodlama şu şekildedir:"
   ]
  },
  {
   "cell_type": "code",
   "execution_count": null,
   "metadata": {},
   "outputs": [],
   "source": [
    "#include \"stm32f4xx.h\"                  // Device header\n",
    "\n",
    "unsigned long int LED_i=0;\n",
    "\n",
    "void EXTI0_IRQHandler(void){\n",
    "    \n",
    "    //pending register control\n",
    "    if(EXTI->PR & EXTI_PR_PR0)\n",
    "        EXTI->PR |= EXTI_PR_PR0;\n",
    "    \n",
    "    LED_i++;\n",
    "    \n",
    "    //All LEDs are OFF\n",
    "    GPIOD->ODR &= ~(GPIO_ODR_OD12 | GPIO_ODR_OD13 | GPIO_ODR_OD14 | GPIO_ODR_OD15);    \n",
    "    // LED i ON        \n",
    "    GPIOD->ODR |= 1U << (12+(LED_i%4));\n",
    "    \n",
    "}\n",
    "\n",
    "int main(){\n",
    "    \n",
    "    //A ve D portlari etkinlestirildi\n",
    "    RCC->AHB1ENR |= RCC_AHB1ENR_GPIOAEN;\n",
    "    RCC->AHB1ENR |= RCC_AHB1ENR_GPIODEN;\n",
    "    \n",
    "    //D portunun 12,13,14,15. pinleri output olarak ayarlandi.\n",
    "    GPIOD->MODER |= (GPIO_MODER_MODE12_0 | GPIO_MODER_MODE13_0 | GPIO_MODER_MODE14_0 | GPIO_MODER_MODE15_0);\n",
    "\n",
    "    //NIVIC te 6 nolu interrupt etkinlesitirildi.\n",
    "    //NVIC_EnableIRQ(6);\n",
    "    NVIC_EnableIRQ(EXTI0_IRQn);\n",
    "    \n",
    "    // A portunun 0. pinine bagli buton icin interrupt maski etkinlestirildi.\n",
    "    EXTI->IMR |= EXTI_IMR_IM0; \n",
    "    \n",
    "    //A portunun 0. pinine bagli butona basildiginda 0'dan 1'e gecme durumunda interrup olacak.\n",
    "    EXTI->RTSR |= EXTI_RTSR_TR0;\n",
    "    \n",
    "    while(1);\n",
    "    \n",
    "    return 1;\n",
    "}\n"
   ]
  }
 ],
 "metadata": {
  "kernelspec": {
   "display_name": "C++14",
   "language": "C++14",
   "name": "xeus-cling-cpp14"
  },
  "language_info": {
   "codemirror_mode": "text/x-c++src",
   "file_extension": ".cpp",
   "mimetype": "text/x-c++src",
   "name": "c++",
   "version": "-std=c++14"
  }
 },
 "nbformat": 4,
 "nbformat_minor": 2
}
