{
 "cells": [
  {
   "cell_type": "markdown",
   "metadata": {},
   "source": [
    "Bu çalışmada Keil µVision programının kart desteği kütüphaneleri kullanılmıştır.   \n",
    "Böylece Keil µVision ortamının nasıl kullanıldığı; program derleme, derlenen programı cihaza gönderme, cihazın gönderilen programı çalıştırması gösterilmiştir."
   ]
  },
  {
   "cell_type": "markdown",
   "metadata": {},
   "source": [
    "Kart üzerindeki 4 LEDi yakıp söndüren program:"
   ]
  },
  {
   "cell_type": "code",
   "execution_count": null,
   "metadata": {},
   "outputs": [],
   "source": [
    "#include \"Board_LED.h\"                  // ::Board Support:LED\n",
    "\n",
    "int main(void){\n",
    "\n",
    "    int i;\n",
    "    LED_Initialize();\n",
    "\n",
    "while(1){    \n",
    "    LED_On(0);\n",
    "    LED_On(1);    \n",
    "    LED_On(2);\n",
    "    LED_On(3);\n",
    "    for(i=0;i<3000000;i++);\n",
    "    LED_Off(0);\n",
    "    LED_Off(1);\n",
    "    LED_Off(2);\n",
    "    LED_Off(3);\n",
    "    for(i=0;i<3000000;i++);\n",
    "}\n",
    "\n",
    "    return 1;\n",
    "}"
   ]
  },
  {
   "cell_type": "markdown",
   "metadata": {},
   "source": [
    "Kart üzerindeki 4 LEDi *sırayla* yakıp söndüren program:"
   ]
  },
  {
   "cell_type": "code",
   "execution_count": null,
   "metadata": {},
   "outputs": [],
   "source": [
    "#include \"Board_LED.h\"                  // ::Board Support:LED\n",
    "\n",
    "int main(void){\n",
    "\n",
    "    int i;\n",
    "    LED_Initialize();\n",
    "\n",
    "while(1){    \n",
    "    LED_On(0);\n",
    "    for(i=0;i<3000000;i++);\n",
    "    LED_Off(0);\n",
    "    for(i=0;i<3000000;i++);\n",
    "    \n",
    "    LED_On(1);\n",
    "    for(i=0;i<3000000;i++);\n",
    "    LED_Off(1);\n",
    "    for(i=0;i<3000000;i++);\n",
    "    \n",
    "    LED_On(2);\n",
    "    for(i=0;i<3000000;i++);\n",
    "    LED_Off(2);\n",
    "    for(i=0;i<3000000;i++);\n",
    "    \n",
    "    LED_On(3);\n",
    "    for(i=0;i<3000000;i++);\n",
    "    LED_Off(3);\n",
    "    for(i=0;i<3000000;i++);\n",
    "     \n",
    "}\n",
    "    return 1;\n",
    "}"
   ]
  },
  {
   "cell_type": "markdown",
   "metadata": {},
   "source": [
    "Kart üzerindeki 4 LEDi *sırayla* yakan, geçiş esnasında beklemeyen  program:"
   ]
  },
  {
   "cell_type": "code",
   "execution_count": null,
   "metadata": {},
   "outputs": [],
   "source": [
    "#include \"Board_LED.h\"                  // ::Board Support:LED\n",
    "\n",
    "int main(void){\n",
    "\n",
    "    int i;\n",
    "    LED_Initialize();\n",
    "\n",
    "while(1){    \n",
    "    LED_On(0);\n",
    "    for(i=0;i<3000000;i++);\n",
    "    LED_Off(0);\n",
    "    \n",
    "    LED_On(1);\n",
    "    for(i=0;i<3000000;i++);\n",
    "    LED_Off(1);\n",
    "    \n",
    "    LED_On(2);\n",
    "    for(i=0;i<3000000;i++);\n",
    "    LED_Off(2);\n",
    "    \n",
    "    LED_On(3);\n",
    "    for(i=0;i<3000000;i++);\n",
    "    LED_Off(3);   \n",
    "}\n",
    "    return 1;\n",
    "}"
   ]
  },
  {
   "cell_type": "markdown",
   "metadata": {},
   "source": [
    "Bir önceki programın döngü kullanılarak tekrar yazılması:"
   ]
  },
  {
   "cell_type": "code",
   "execution_count": null,
   "metadata": {},
   "outputs": [],
   "source": [
    "#include \"Board_LED.h\"                  // ::Board Support:LED\n",
    "\n",
    "int main(void){\n",
    "\n",
    "    int i;\n",
    "    int led_no;\n",
    "    \n",
    "    LED_Initialize();\n",
    "\n",
    "    while(1){    \n",
    "        \n",
    "        for(led_no=0; led_no<4; led_no++){\n",
    "        \n",
    "            LED_On(led_no);\n",
    "            for(i=0;i<3000000;i++);\n",
    "            LED_Off(led_no);\n",
    "            \n",
    "        }    \n",
    "}\n",
    "    return 1;\n",
    "}"
   ]
  },
  {
   "cell_type": "markdown",
   "metadata": {},
   "source": [
    "LEDlerin yanma sırasının tam tersi olacak şekilde programlanması:"
   ]
  },
  {
   "cell_type": "code",
   "execution_count": null,
   "metadata": {},
   "outputs": [],
   "source": [
    "#include \"Board_LED.h\"                  // ::Board Support:LED\n",
    "\n",
    "int main(void){\n",
    "\n",
    "    int i;\n",
    "    int led_no;\n",
    "    LED_Initialize();\n",
    "\n",
    "    while(1){    \n",
    "        \n",
    "        for(led_no=3; led_no>=0; led_no--){\n",
    "        \n",
    "            LED_On(led_no);\n",
    "            for(i=0;i<1000000;i++);\n",
    "            LED_Off(led_no);   \n",
    "        }    \n",
    "}\n",
    "    return 1;\n",
    "}"
   ]
  },
  {
   "cell_type": "markdown",
   "metadata": {},
   "source": [
    "Cihazın LED ve Buton desteği eklenerek programlanması:   \n",
    "Butona basıldığında 3. LED sönüyor, basılmadığında yanıyor."
   ]
  },
  {
   "cell_type": "code",
   "execution_count": null,
   "metadata": {},
   "outputs": [],
   "source": [
    "#include \"Board_LED.h\"                  // ::Board Support:LED\n",
    "#include \"Board_Buttons.h\"              // ::Board Support:Buttons\n",
    "\n",
    "int main(void){\n",
    "    \n",
    "    //unsigned int btn;\n",
    "    uint32_t btn;\n",
    "    LED_Initialize();\n",
    "    Buttons_Initialize();\n",
    "    \n",
    "    while(1){\n",
    "        \n",
    "    btn = Buttons_GetState();\n",
    "        \n",
    "        if(btn==1){\n",
    "            LED_Off(3);\n",
    "        }else{\n",
    "            LED_On(3);\n",
    "        }    \n",
    "    }\n",
    "    return 1;\n",
    "}"
   ]
  }
 ],
 "metadata": {
  "kernelspec": {
   "display_name": "C++14",
   "language": "C++14",
   "name": "xeus-cling-cpp14"
  },
  "language_info": {
   "codemirror_mode": "text/x-c++src",
   "file_extension": ".cpp",
   "mimetype": "text/x-c++src",
   "name": "c++",
   "version": "-std=c++14"
  }
 },
 "nbformat": 4,
 "nbformat_minor": 2
}
