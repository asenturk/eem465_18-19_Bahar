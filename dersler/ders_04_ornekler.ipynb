{
 "cells": [
  {
   "cell_type": "markdown",
   "metadata": {},
   "source": [
    "Çalışmalarımızda artık stm32f407xx.h kütüphanesindeki tanımlamaları kullanacağız. Bu tanımlamalar arasında en çok kullanılan programlama yapısı ise struct pointer'ı. Dolayısıyla struct pointerını anlamak için basit bir örnek aşağıda verilmiştir."
   ]
  },
  {
   "cell_type": "code",
   "execution_count": null,
   "metadata": {},
   "outputs": [],
   "source": [
    "#include <stdio.h>\n",
    "\n",
    "typedef struct\n",
    "{\n",
    "    int ogr_sinif;\n",
    "    int ogr_yas;\n",
    "  \n",
    "} ogr_bilgi;\n",
    "\n",
    "int main(int argc, char *argv[]) {\n",
    "\n",
    "    ogr_bilgi ogr1, ogr2;\n",
    "    ogr_bilgi *p;\n",
    "    \n",
    "    p=&ogr1;\n",
    "      \n",
    "    ogr1.ogr_yas=20;\n",
    "    ogr1.ogr_sinif=2;\n",
    "    \n",
    "    ogr2.ogr_yas=21;\n",
    "    ogr2.ogr_sinif=1;\n",
    "    \n",
    "    \n",
    "    printf(\"%d %d \\n\", ogr1.ogr_sinif, ogr1.ogr_yas);\n",
    "    \n",
    "    printf(\"%d %d \\n\", (*p).ogr_sinif, (*p).ogr_yas);\n",
    "    printf(\"%d %d \\n\", p->ogr_sinif, p->ogr_yas);\n",
    "    \n",
    "    printf(\"%d %d \\n\", &ogr1.ogr_sinif, &ogr1.ogr_yas);\n",
    "    \n",
    "    printf(\"%d %d\\n\", ogr2.ogr_sinif, ogr2.ogr_yas);\n",
    "    printf(\"%d %d\\n\", &ogr2.ogr_sinif, &ogr2.ogr_yas);\n",
    "\n",
    "    return 0;\n",
    "}\n"
   ]
  },
  {
   "cell_type": "markdown",
   "metadata": {},
   "source": [
    "Struct pointer'ı stm32f4 cihazılarını progragramlamada şu şekilde kullanılmıştır."
   ]
  },
  {
   "cell_type": "code",
   "execution_count": null,
   "metadata": {},
   "outputs": [],
   "source": [
    "typedef struct\n",
    "{\n",
    "  __IO uint32_t MODER;    /*!< GPIO port mode register,               Address offset: 0x00      */\n",
    "  __IO uint32_t OTYPER;   /*!< GPIO port output type register,        Address offset: 0x04      */\n",
    "  __IO uint32_t OSPEEDR;  /*!< GPIO port output speed register,       Address offset: 0x08      */\n",
    "  __IO uint32_t PUPDR;    /*!< GPIO port pull-up/pull-down register,  Address offset: 0x0C      */\n",
    "  __IO uint32_t IDR;      /*!< GPIO port input data register,         Address offset: 0x10      */\n",
    "  __IO uint32_t ODR;      /*!< GPIO port output data register,        Address offset: 0x14      */\n",
    "  __IO uint32_t BSRR;     /*!< GPIO port bit set/reset register,      Address offset: 0x18      */\n",
    "  __IO uint32_t LCKR;     /*!< GPIO port configuration lock register, Address offset: 0x1C      */\n",
    "  __IO uint32_t AFR[2];   /*!< GPIO alternate function registers,     Address offset: 0x20-0x24 */\n",
    "} GPIO_TypeDef;"
   ]
  },
  {
   "cell_type": "code",
   "execution_count": null,
   "metadata": {},
   "outputs": [],
   "source": [
    "// GPIOD_BASE ifadesinde D portunun başlangıç adresi tutulmaktadır.\n",
    "// ((GPIO_TypeDef *) GPIOD_BASE) ifadesi ile bu adres\n",
    "// bir GPIO_TypeDef struct türüne işaret eden pointer halini alır.\n",
    "// #define GPIOD ile sağ taraftaki struct pointerı sol taraftaki\n",
    "// ifade ile kullanılabilir hale gelmiştir. (makro)\n",
    "#define GPIOD   ((GPIO_TypeDef *) GPIOD_BASE)"
   ]
  },
  {
   "cell_type": "code",
   "execution_count": null,
   "metadata": {},
   "outputs": [],
   "source": [
    "GPIOD->MODER |=  (1U << 24);"
   ]
  },
  {
   "cell_type": "markdown",
   "metadata": {},
   "source": [
    "Aşağıdaki program ile tüm LEDler yakılmıştır."
   ]
  },
  {
   "cell_type": "code",
   "execution_count": null,
   "metadata": {},
   "outputs": [],
   "source": [
    "#include \"stm32f4xx.h\"  // Device header\n",
    "\n",
    "int main(){\n",
    "    \n",
    "    //RCC->AHB1ENR = RCC->AHB1ENR | (1U << 3);\n",
    "    RCC->AHB1ENR |= (1U << 3);\n",
    "    \n",
    "    GPIOD->MODER |= (1U << 24) | (1U << 26) | (1U << 28) | (1U << 30);\n",
    "    \n",
    "    GPIOD->ODR |= (1U << 12) | (1U << 13) | (1U << 14) | (1U << 15);\n",
    "    \n",
    "    return 0;\n",
    "}"
   ]
  },
  {
   "cell_type": "markdown",
   "metadata": {},
   "source": [
    "Aşağıdaki program, bir önceki program ile aynıdır.\n",
    "Aşağıdaki programda kütüphanedeki tanımlamalar kullanılmıştır."
   ]
  },
  {
   "cell_type": "code",
   "execution_count": null,
   "metadata": {},
   "outputs": [],
   "source": [
    "#include \"stm32f4xx.h\"                  // Device header\n",
    "\n",
    "int main(){\n",
    "    \n",
    "    RCC->AHB1ENR |= RCC_AHB1ENR_GPIODEN;\n",
    "    \n",
    "    GPIOD->MODER |= GPIO_MODER_MODE15_0 | \n",
    "                GPIO_MODER_MODE14_0 | \n",
    "                GPIO_MODER_MODE13_0 | \n",
    "                GPIO_MODER_MODE12_0;\n",
    "    \n",
    "    GPIOD->ODR |= GPIO_ODR_OD15 |\n",
    "                GPIO_ODR_OD14 |\n",
    "                GPIO_ODR_OD13    |\n",
    "                GPIO_ODR_OD12;\n",
    "    \n",
    "    \n",
    "    return 0;\n",
    "}"
   ]
  },
  {
   "cell_type": "markdown",
   "metadata": {},
   "source": [
    "Aşağıdaki programda kart üzerindeki tüm LEDler yakılıp söndürülüyor."
   ]
  },
  {
   "cell_type": "code",
   "execution_count": null,
   "metadata": {},
   "outputs": [],
   "source": [
    "#include \"stm32f4xx.h\"                  // Device header\n",
    "\n",
    "int main(){\n",
    "    \n",
    "    int i;\n",
    "    RCC->AHB1ENR |= RCC_AHB1ENR_GPIODEN;\n",
    "    \n",
    "    GPIOD->MODER |= GPIO_MODER_MODE15_0 | GPIO_MODER_MODE14_0 | \n",
    "                    GPIO_MODER_MODE13_0 | GPIO_MODER_MODE12_0;\n",
    "    \n",
    "    while(1){\n",
    "    \n",
    "        GPIOD->ODR |= GPIO_ODR_OD15 | GPIO_ODR_OD14 |\n",
    "                      GPIO_ODR_OD13 | GPIO_ODR_OD12;\n",
    "        for(i=0;i<1000000;i++);\n",
    "    \n",
    "        GPIOD->ODR &= ~(GPIO_ODR_OD15 | GPIO_ODR_OD14 |\n",
    "                        GPIO_ODR_OD13 | GPIO_ODR_OD12);\n",
    "        \n",
    "        for(i=0;i<1000000;i++);\n",
    "    }\n",
    "    \n",
    "    return 0;\n",
    "}"
   ]
  },
  {
   "cell_type": "markdown",
   "metadata": {},
   "source": [
    "Daha önceki dönem ilgili tanımlamaların satırlarının ifade edildiği örnekler:"
   ]
  },
  {
   "cell_type": "code",
   "execution_count": null,
   "metadata": {},
   "outputs": [],
   "source": [
    "#include \"stm32f4xx.h\"                  // Device header\n",
    "\n",
    "void delay();\n",
    "\n",
    "int main(){\n",
    "    \n",
    "    RCC->AHB1ENR |=  (1U << 3); //stm32f407xx.h dosyasinin 613, 1129. satiri\n",
    "    \n",
    "    GPIOD->MODER |= (1U << 30); //stm32f407xx.h dosyasinin 543, 1122. satiri\n",
    "    \n",
    "    GPIOD->ODR |= 1U << 15; //stm32f407xx.h dosyasinin 543, 1122. satiri\n",
    "    \n",
    "    while(1){\n",
    "        GPIOD->ODR |= 1U << 15;\n",
    "        delay();\n",
    "        \n",
    "        GPIOD->ODR &= ~(1U << 15);\n",
    "        \n",
    "        delay();\n",
    "    }\n",
    "    \n",
    "    return 1;\n",
    "}\n",
    "\n",
    "void delay(){\n",
    "    int i;\n",
    "    for(i=0;i<1000000;i++);\n",
    "}\n",
    "    "
   ]
  },
  {
   "cell_type": "code",
   "execution_count": null,
   "metadata": {},
   "outputs": [],
   "source": [
    "#include \"stm32f407xx.h\"                  // Device header\n",
    "\n",
    "void delay(void);\n",
    "\n",
    "int main(){\n",
    "    \n",
    "    // stm32f407xx.h dosyasinin 613, 1129. satiri\n",
    "    // RCC->AHB1ENR |=  (1U << 3); \n",
    "    // stm32f407xx.h dosyasinda 9894. satirindan baslayan tanimlamalar\n",
    "    // 9906. satir\n",
    "    RCC->AHB1ENR |=  RCC_AHB1ENR_GPIODEN;\n",
    "    \n",
    "    \n",
    "    // stm32f407xx.h dosyasinin 543, 1122. satiri\n",
    "    // GPIOD->MODER |= (1U << 30); \n",
    "    // stm32f407xx.h dosyasinda 8048. satirindan baslayan tanimlamalar\n",
    "    // 8127. satir\n",
    "    GPIOD->MODER |= GPIO_MODER_MODE15_0;\n",
    "    \n",
    "    \n",
    "    // stm32f407xx.h dosyasinin 543, 1122. satiri\n",
    "    // GPIOD->ODR |= 1U << 15; // ON icin\n",
    "    // GPIOD->ODR &= ~(1U << 15); // OFF icin\n",
    "    \n",
    "    // stm32f407xx.h dosyasinda 8612. satirindan baslayan tanimlamalar\n",
    "    // 8660. satir\n",
    "    // ON yapmak icin\n",
    "    // GPIOD->ODR |= GPIO_ODR_OD15;\n",
    "    // OFF yapmak icin\n",
    "    // GPIOD->ODR &= ~GPIO_ODR_OD15;\n",
    "    \n",
    "    while(1){\n",
    "        \n",
    "        GPIOD->ODR |= GPIO_ODR_OD15;\n",
    "        \n",
    "        delay();\n",
    "        \n",
    "        GPIOD->ODR &= ~GPIO_ODR_OD15;\n",
    "        \n",
    "        delay();\n",
    "    }\n",
    "    \n",
    "    return 1;\n",
    "}\n",
    "\n",
    "void delay(void){\n",
    "    int i;\n",
    "    for(i=0;i<1000000;i++);\n",
    "}\n",
    "    "
   ]
  }
 ],
 "metadata": {
  "kernelspec": {
   "display_name": "C++14",
   "language": "C++14",
   "name": "xeus-cling-cpp14"
  },
  "language_info": {
   "codemirror_mode": "text/x-c++src",
   "file_extension": ".cpp",
   "mimetype": "text/x-c++src",
   "name": "c++",
   "version": "-std=c++14"
  }
 },
 "nbformat": 4,
 "nbformat_minor": 2
}
