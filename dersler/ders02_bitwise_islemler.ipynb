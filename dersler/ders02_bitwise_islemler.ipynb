{
 "cells": [
  {
   "cell_type": "markdown",
   "metadata": {},
   "source": [
    "Gömülü Sistemler dersinde bitwise işlemleri çok sık kullanacağız:  \n",
    "\\& : VE  \n",
    "| : VEYA  \n",
    "~ : DEĞİL  \n",
    "^ : XOR  \n",
    "<< : Sola kaydırma  \n",
    "\\>> : Sağa kaydırma  "
   ]
  },
  {
   "cell_type": "code",
   "execution_count": 2,
   "metadata": {},
   "outputs": [],
   "source": [
    "unsigned int a=12;\n",
    "unsigned int b=10;"
   ]
  },
  {
   "cell_type": "markdown",
   "metadata": {},
   "source": [
    "Yukarıdaki atama işlemleri sonucu bellekte 2 tabanında değer saklanır. Bu sayıyı 10 tabanında veya 16 tabanında gösterebiliriz."
   ]
  },
  {
   "cell_type": "code",
   "execution_count": 3,
   "metadata": {},
   "outputs": [
    {
     "name": "stdout",
     "output_type": "stream",
     "text": [
      "Dec: 12 Hex: C Bin: 00001100\n",
      "Dec: 10 Hex: A Bin: 00001010\n"
     ]
    }
   ],
   "source": [
    "a\n",
    "b"
   ]
  },
  {
   "cell_type": "markdown",
   "metadata": {},
   "source": [
    "VE işleminde her iki bit de 1 ise sonuç 1 olur diğer durumlarda sonuç 0 olur."
   ]
  },
  {
   "cell_type": "code",
   "execution_count": 12,
   "metadata": {
    "scrolled": true
   },
   "outputs": [
    {
     "name": "stdout",
     "output_type": "stream",
     "text": [
      "00001100\n",
      "00001010\n",
      "00001000\n"
     ]
    }
   ],
   "source": [
    "a\n",
    "b\n",
    "a&b"
   ]
  },
  {
   "cell_type": "markdown",
   "metadata": {},
   "source": [
    "VEYA işleminde bitlerden 1 tanesinin  1 olması sonucu 1 yapmak için yeterlidir."
   ]
  },
  {
   "cell_type": "code",
   "execution_count": 14,
   "metadata": {},
   "outputs": [
    {
     "name": "stdout",
     "output_type": "stream",
     "text": [
      "00001100\n",
      "00001010\n",
      "00001110\n"
     ]
    }
   ],
   "source": [
    "a\n",
    "b\n",
    "a|b"
   ]
  },
  {
   "cell_type": "markdown",
   "metadata": {},
   "source": [
    "XOR işlemi (mod 2)'de toplama işlemi gibi düşünülebilir."
   ]
  },
  {
   "cell_type": "code",
   "execution_count": 15,
   "metadata": {},
   "outputs": [
    {
     "name": "stdout",
     "output_type": "stream",
     "text": [
      "00001100\n",
      "00001010\n",
      "00000110\n"
     ]
    }
   ],
   "source": [
    "a\n",
    "b\n",
    "a^b"
   ]
  },
  {
   "cell_type": "markdown",
   "metadata": {},
   "source": [
    "DEĞİL işleminde bit 0 ise 1, 1 ise 0 yapılır."
   ]
  },
  {
   "cell_type": "code",
   "execution_count": 16,
   "metadata": {},
   "outputs": [
    {
     "name": "stdout",
     "output_type": "stream",
     "text": [
      "00001100\n",
      "11110011\n"
     ]
    }
   ],
   "source": [
    "a\n",
    "~a"
   ]
  },
  {
   "cell_type": "markdown",
   "metadata": {},
   "source": [
    "Sağa kaydırma operatörü: >> "
   ]
  },
  {
   "cell_type": "code",
   "execution_count": 18,
   "metadata": {},
   "outputs": [
    {
     "name": "stdout",
     "output_type": "stream",
     "text": [
      "00001100\n",
      "00000110\n",
      "00000011\n"
     ]
    }
   ],
   "source": [
    "a\n",
    "a>>1\n",
    "a>>2"
   ]
  },
  {
   "cell_type": "markdown",
   "metadata": {},
   "source": [
    "Sola kaydırma operatörü: <<"
   ]
  },
  {
   "cell_type": "code",
   "execution_count": 22,
   "metadata": {},
   "outputs": [
    {
     "name": "stdout",
     "output_type": "stream",
     "text": [
      "00001100\n",
      "00011000\n",
      "00110000\n"
     ]
    }
   ],
   "source": [
    "a\n",
    "a<<1\n",
    "a<<2"
   ]
  },
  {
   "cell_type": "markdown",
   "metadata": {},
   "source": [
    "**Set Bit** İşlemi, bir değişkeninin en sağdaki biti 0. biti olmak üzere n. bitini 1 yapma işlemidir."
   ]
  },
  {
   "cell_type": "markdown",
   "metadata": {},
   "source": [
    "a değişkeninin n=10. bitini set edelim."
   ]
  },
  {
   "cell_type": "code",
   "execution_count": 4,
   "metadata": {},
   "outputs": [],
   "source": [
    "int n;"
   ]
  },
  {
   "cell_type": "code",
   "execution_count": 5,
   "metadata": {},
   "outputs": [
    {
     "name": "stdout",
     "output_type": "stream",
     "text": [
      "a: 0000000000001100\n",
      "   0000010000001100\n"
     ]
    }
   ],
   "source": [
    "n=10;\n",
    "a\n",
    "a | (1<<n)"
   ]
  },
  {
   "cell_type": "markdown",
   "metadata": {},
   "source": [
    "**Clear Bit** İşlemi, bir değişkeninin en sağdaki biti 0. biti olmak üzere n. bitini 0 yapma işlemidir."
   ]
  },
  {
   "cell_type": "markdown",
   "metadata": {},
   "source": [
    "a değişkeninin n=3. bitini temizleyelim.\n"
   ]
  },
  {
   "cell_type": "code",
   "execution_count": 32,
   "metadata": {},
   "outputs": [
    {
     "name": "stdout",
     "output_type": "stream",
     "text": [
      "a: 0000000000001100\n",
      "   0000000000000100\n"
     ]
    }
   ],
   "source": [
    "n=3;\n",
    "a\n",
    "a & ~(1<<n)"
   ]
  },
  {
   "cell_type": "markdown",
   "metadata": {},
   "source": [
    "Test Bit işlemi, bir değişkeninin en sağdaki biti 0. biti olmak üzere n. bitinin 1 veya  0 olduğunu kontrol etme işlemidir."
   ]
  },
  {
   "cell_type": "code",
   "execution_count": 36,
   "metadata": {},
   "outputs": [
    {
     "name": "stdout",
     "output_type": "stream",
     "text": [
      "a: 0000000000001100\n",
      "   1\n"
     ]
    }
   ],
   "source": [
    "n=3;\n",
    "a\n",
    "(a >> n) & 1"
   ]
  },
  {
   "cell_type": "code",
   "execution_count": 37,
   "metadata": {},
   "outputs": [
    {
     "name": "stdout",
     "output_type": "stream",
     "text": [
      "a: 0000000000001100\n",
      "   0\n"
     ]
    }
   ],
   "source": [
    "n=4;\n",
    "a\n",
    "(a >> n) & 1"
   ]
  },
  {
   "cell_type": "markdown",
   "metadata": {},
   "source": [
    "**Toggle Bit** işlemi, bir değişkeninin en sağdaki biti 0. biti olmak üzere n. biti 1 ise 0 yapma 0 ise 1 yapma işlemidir."
   ]
  },
  {
   "cell_type": "code",
   "execution_count": 9,
   "metadata": {},
   "outputs": [
    {
     "name": "stdout",
     "output_type": "stream",
     "text": [
      "a: 0000000000001100\n",
      "   0000000000001000\n",
      "   0000000000011100\n"
     ]
    }
   ],
   "source": [
    "n=2;\n",
    "a\n",
    "a ^ (1<<n)\n",
    "n=4;\n",
    "a ^ (1<<n)"
   ]
  },
  {
   "cell_type": "markdown",
   "metadata": {},
   "source": [
    "Clear Range: bir bölgenin temizlenmesi (0 yapılması) işlemidir.   \n",
    "Örneğin 7. bitten itibaren 5 bitlik bir bölge 0 yapılacaksa:"
   ]
  },
  {
   "cell_type": "code",
   "execution_count": null,
   "metadata": {},
   "outputs": [],
   "source": [
    "unsigned int cr;"
   ]
  },
  {
   "cell_type": "code",
   "execution_count": 32,
   "metadata": {},
   "outputs": [],
   "source": [
    "cr=0x1F;"
   ]
  },
  {
   "cell_type": "code",
   "execution_count": 33,
   "metadata": {},
   "outputs": [
    {
     "name": "stdout",
     "output_type": "stream",
     "text": [
      "a: 0001111011101101\n",
      "   0001000001101101\n"
     ]
    }
   ],
   "source": [
    "a=7917;\n",
    "n=7;\n",
    "a\n",
    "a & ~(cr<<n)"
   ]
  },
  {
   "cell_type": "markdown",
   "metadata": {},
   "source": [
    "Set Range: bir bölgeye bir verinin yazılması işlemidir.  \n",
    "Bu işlemi yapabilmek için önce o bölgenin temizlenmesi gerekmektedir.  \n",
    "Temzilenme işleminden sonra yazılmak istenen veri VEYA işlemi ile belirlenen bölgeye yazılır."
   ]
  },
  {
   "cell_type": "markdown",
   "metadata": {},
   "source": [
    "9\\. bitinden itibaren 1010 verisini yazalım:"
   ]
  },
  {
   "cell_type": "code",
   "execution_count": 35,
   "metadata": {},
   "outputs": [],
   "source": [
    "int d;"
   ]
  },
  {
   "cell_type": "code",
   "execution_count": 41,
   "metadata": {},
   "outputs": [
    {
     "name": "stdout",
     "output_type": "stream",
     "text": [
      "a: 0001111011101101\n",
      "   0001010011101101\n"
     ]
    }
   ],
   "source": [
    "a=7917;\n",
    "cr=0xF;\n",
    "d=0xA;\n",
    "n=9;\n",
    "a\n",
    "(a & ~(cr<<n)) | (d << n))"
   ]
  }
 ],
 "metadata": {
  "kernelspec": {
   "display_name": "C++14",
   "language": "C++14",
   "name": "xeus-cling-cpp14"
  },
  "language_info": {
   "codemirror_mode": "text/x-c++src",
   "file_extension": ".cpp",
   "mimetype": "text/x-c++src",
   "name": "c++",
   "version": "-std=c++14"
  }
 },
 "nbformat": 4,
 "nbformat_minor": 2
}
