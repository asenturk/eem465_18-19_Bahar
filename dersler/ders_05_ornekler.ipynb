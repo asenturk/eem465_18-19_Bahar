{
 "cells": [
  {
   "cell_type": "markdown",
   "metadata": {},
   "source": [
    "Butona basıldığında 13 ve 15. pine bağlı LEDler, basılmadığında 14 ve 12. pine bağlı LEDler yanıp sönüyor.\n",
    "\n",
    "int n parametresi ile delay fonksiyonunun bekleme süresi ayarlanıyor."
   ]
  },
  {
   "cell_type": "code",
   "execution_count": null,
   "metadata": {},
   "outputs": [],
   "source": [
    "#include \"stm32f4xx.h\" \n",
    "\n",
    "void delay(int n);\n",
    "\n",
    "int main(){\n",
    "    int dly=9;\n",
    "    \n",
    "    RCC->AHB1ENR |= RCC_AHB1ENR_GPIOAEN | RCC_AHB1ENR_GPIODEN;\n",
    "    GPIOD->MODER |= GPIO_MODER_MODE15_0 | GPIO_MODER_MODE14_0 |\n",
    "                    GPIO_MODER_MODE13_0 | GPIO_MODER_MODE12_0 ;\n",
    "    \n",
    "    while(1){\n",
    "        \n",
    "    if( GPIOA->IDR & (0x1U << 0) ){  \n",
    "        GPIOD->ODR |= GPIO_ODR_OD15 | GPIO_ODR_OD13;\n",
    "        delay(dly);\n",
    "        GPIOD->ODR &= ~(GPIO_ODR_OD15 | GPIO_ODR_OD13);\n",
    "        delay(dly);\n",
    "        \n",
    "    }else{\n",
    "        GPIOD->ODR |= GPIO_ODR_OD14 | GPIO_ODR_OD12;\n",
    "        delay(dly);\n",
    "        GPIOD->ODR &= ~(GPIO_ODR_OD14 | GPIO_ODR_OD12);\n",
    "        delay(dly);\n",
    "    }\n",
    "}\n",
    "    \n",
    "    \n",
    "    return 0;\n",
    "}\n",
    "    \n",
    "void delay(int n){\n",
    "    int i;\n",
    "    for(i=0;i<100000*n;i++);\n",
    "}"
   ]
  },
  {
   "cell_type": "markdown",
   "metadata": {},
   "source": [
    "RCC_CR yazmacı ile harici çevrim kaynağı aktifleştiriliyor. Harici kaynağın stabil olması için bekleniyor. RCC_CFGR yazmacı ile aktif hale gitirilen harici çevrim kaynağı sistemin çevrim kaynağı olarak seçiliyor."
   ]
  },
  {
   "cell_type": "code",
   "execution_count": null,
   "metadata": {},
   "outputs": [],
   "source": [
    "#include \"stm32f4xx.h\" \n",
    "\n",
    "void delay(){\n",
    "\n",
    "    int i;\n",
    "    for(i=0;i<9000000;i++);\n",
    "}\n",
    "\n",
    "int main(){\n",
    "    \n",
    "    RCC->CR |= RCC_CR_HSEON;\n",
    "    \n",
    "    while( !(RCC_CR_HSERDY & (0X1U << 17)));\n",
    "    \n",
    "    RCC->CFGR = RCC_CFGR_SW_HSE;\n",
    "    \n",
    "    RCC->AHB1ENR |= RCC_AHB1ENR_GPIODEN;\n",
    "    GPIOD->MODER |= GPIO_MODER_MODE15_0;\n",
    "    \n",
    "    while(1){\n",
    "        \n",
    "        GPIOD->ODR |= GPIO_ODR_OD15;\n",
    "        delay();\n",
    "        GPIOD->ODR &= ~GPIO_ODR_OD15;\n",
    "        delay();\n",
    "    }\n",
    "    \n",
    "    return 0;\n",
    "}"
   ]
  }
 ],
 "metadata": {
  "kernelspec": {
   "display_name": "C++14",
   "language": "C++14",
   "name": "xeus-cling-cpp14"
  },
  "language_info": {
   "codemirror_mode": "text/x-c++src",
   "file_extension": ".cpp",
   "mimetype": "text/x-c++src",
   "name": "c++",
   "version": "-std=c++14"
  }
 },
 "nbformat": 4,
 "nbformat_minor": 2
}
