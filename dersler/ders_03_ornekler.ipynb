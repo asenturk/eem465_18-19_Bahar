{
 "cells": [
  {
   "cell_type": "markdown",
   "metadata": {},
   "source": [
    "**Pointerlar**"
   ]
  },
  {
   "cell_type": "code",
   "execution_count": null,
   "metadata": {},
   "outputs": [],
   "source": [
    "#include <stdio.h>\n",
    "\n",
    "int main(int argc, char *argv[]) {\n",
    "\n",
    "    int a=10, b=20;\n",
    "    int *p;\n",
    "    \n",
    "    p=&a;\n",
    "    \n",
    "    printf(\"%d\\n\",a);\n",
    "    printf(\"%d\\n\",&a);\n",
    "    \n",
    "    printf(\"%d\\n\",b);\n",
    "    printf(\"%d\\n\",&b);\n",
    "        \n",
    "    printf(\"%d\\n\",p);\n",
    "    printf(\"%d\\n\",&p);\n",
    "    *p=5;\n",
    "    printf(\"%d\\n\",a);\n",
    "    \n",
    "    return 0;\n",
    "}"
   ]
  },
  {
   "cell_type": "markdown",
   "metadata": {},
   "source": [
    "**Tür değiştirme**"
   ]
  },
  {
   "cell_type": "code",
   "execution_count": null,
   "metadata": {},
   "outputs": [],
   "source": [
    "#include <stdio.h>\n",
    "\n",
    "int main(int argc, char *argv[]) {\n",
    "\n",
    "    int a;\n",
    "    float b, c=10.5;\n",
    "    \n",
    "    a=12.5;\n",
    "    \n",
    "    printf(\"%d \",a);\n",
    "    //b sayısına c'nin tam kısmının atanması\n",
    "    b= (int)c;\n",
    "    printf(\"%f\",b);\n",
    "\n",
    "\n",
    "    return 0;\n",
    "}"
   ]
  },
  {
   "cell_type": "markdown",
   "metadata": {},
   "source": [
    "**Makro (define)**"
   ]
  },
  {
   "cell_type": "code",
   "execution_count": null,
   "metadata": {},
   "outputs": [],
   "source": [
    "#include <stdio.h>\n",
    "#define degisken a\n",
    "\n",
    "int main(int argc, char *argv[]) {\n",
    "\n",
    "    int a=10;\n",
    "    \n",
    "    degisken=degisken+1;\n",
    "    printf(\"%d \",a);\n",
    "\n",
    "\n",
    "    return 0;\n",
    "}"
   ]
  },
  {
   "cell_type": "markdown",
   "metadata": {},
   "source": [
    "**Bitwise işlemlerle ilgili örnekler.**\n",
    "Bu örnek Keil ortamında yazılmış ve debug edilerek kontrol edilmiştir."
   ]
  },
  {
   "cell_type": "code",
   "execution_count": null,
   "metadata": {},
   "outputs": [],
   "source": [
    "int main(){\n",
    "    \n",
    "    unsigned int a=802347;\n",
    "    unsigned int bir=1;\n",
    "    unsigned int dort_bir = 0xF;   \n",
    "    \n",
    "    // a değişkeninin 7. bitini 1 yapma\n",
    "    a=a | (bir << 7);\n",
    "    \n",
    "    // a değişkeninin 15. bitini 1 yapma\n",
    "    a=a | (bir << 15);\n",
    "    \n",
    "    // a değişkeninin 11. bitini 0 yapma\n",
    "    a=a & ~(bir << 11);\n",
    "    \n",
    "    // a değişkeninin 16. bitinden itibaren 4 biti 1 yapma\n",
    "    a=a & ~(dort_bir << 16); //temizleme\n",
    "    \n",
    "    // a değişkeninin 20 bitinen itibaren 4 bitlik bolgeye 12 sayısını yazma\n",
    "    //Soldaki parantez içindeki ifade iel 20. bitten itibaren 4 bit temizlendi.\n",
    "    //Sağdaki parantez içindeki ifade ile 12 sayısı 20 bit sola kaydırılıyor\n",
    "    //Böylece aradaki VEYA operatörü ile 12 sayısı temizlenen bölgeye yazılıyor.\n",
    "    a=(a & ~(dort_bir << 20)) | (12 << 20); \n",
    "    \n",
    "    return 1;\n",
    "}"
   ]
  },
  {
   "cell_type": "code",
   "execution_count": null,
   "metadata": {},
   "outputs": [],
   "source": []
  },
  {
   "cell_type": "markdown",
   "metadata": {},
   "source": [
    "**D portunun 12. pinine bağlı olan LEDi yakma:**"
   ]
  },
  {
   "cell_type": "code",
   "execution_count": null,
   "metadata": {},
   "outputs": [],
   "source": [
    "#define RCC_AHB1ENR   *((int *) 0x40023830) \n",
    "#define GPIOD_MODER   *((int *) 0x40020C00)\n",
    "#define GPIOD_ODR     *((int *) 0x40020C14)\n",
    "\n",
    "int main(){\n",
    "    \n",
    "    RCC_AHB1ENR = RCC_AHB1ENR | 1<<3;\n",
    "    GPIOD_MODER = GPIOD_MODER | 1<<24;\n",
    "    GPIOD_ODR = GPIOD_ODR | 1 <<12;\n",
    "\n",
    "    return 0;\n",
    "}"
   ]
  },
  {
   "cell_type": "markdown",
   "metadata": {},
   "source": [
    "**D portunun 12. pinine bağlı olan LEDi yakıp söndürme:**"
   ]
  },
  {
   "cell_type": "code",
   "execution_count": null,
   "metadata": {},
   "outputs": [],
   "source": [
    "#define RCC_AHB1ENR   *((int *) 0x40023830) \n",
    "#define GPIOD_MODER   *((int *) 0x40020C00)\n",
    "#define GPIOD_ODR     *((int *) 0x40020C14)\n",
    "\n",
    "int main(){\n",
    "    \n",
    "    int i;\n",
    "    RCC_AHB1ENR = RCC_AHB1ENR | 1<<3;\n",
    "    GPIOD_MODER = GPIOD_MODER | 1<<24;\n",
    "    \n",
    "    while(1){\n",
    "        GPIOD_ODR = GPIOD_ODR | 1 <<12;\n",
    "        for(i=0;i<1000000;i++);\n",
    "        GPIOD_ODR = GPIOD_ODR & ~(1 <<12);\n",
    "        for(i=0;i<1000000;i++);\n",
    "    }\n",
    "    return 0;\n",
    "}"
   ]
  },
  {
   "cell_type": "markdown",
   "metadata": {},
   "source": [
    "**Butana basılı ilse LEDi söndürme basılı değil ise yakma**"
   ]
  },
  {
   "cell_type": "code",
   "execution_count": null,
   "metadata": {},
   "outputs": [],
   "source": [
    "#define RCC_AHB1ENR   *((int *) 0x40023830) \n",
    "#define GPIOD_MODER   *((int *) 0x40020C00)\n",
    "#define GPIOD_ODR     *((int *) 0x40020C14)\n",
    "#define GPIOA_MODER   *((int *) 0x40020000)\n",
    "#define GPIOA_IDR     *((int *) 0x40020010)\n",
    "\n",
    "int main(){\n",
    "    \n",
    "    RCC_AHB1ENR = RCC_AHB1ENR | 1<<3; //D portuna clock sinyalini vermek icin\n",
    "    RCC_AHB1ENR = RCC_AHB1ENR | 1<<0; //A portuna clock sinyalini vermek icin\n",
    "    GPIOD_MODER = GPIOD_MODER | 1<<24;\n",
    "    \n",
    "    while(1){\n",
    "        \n",
    "        if((GPIOA_IDR >> 0) & 1)\n",
    "            GPIOD_ODR = GPIOD_ODR & ~(1 <<12);\n",
    "        else\n",
    "            GPIOD_ODR = GPIOD_ODR | (1 <<12);\n",
    "    }\n",
    "    return 0;\n",
    "}"
   ]
  },
  {
   "cell_type": "markdown",
   "metadata": {},
   "source": [
    "**1. Öğretim dersin sonunda çalışmayan proje**  \n",
    "Butona basıldığında 13. pine bağlı LED'in yanıp sönmesi,   \n",
    "basılmadığında ise 15. pine bağlı LED'in yanıp sönmesini sağlayacak kod yazmaya çalıştık.   \n",
    "Ama kodlamadaki bir hatadan dolayı istendiği gibi çalışmadı.\n",
    "Hatayı bulunuz?"
   ]
  },
  {
   "cell_type": "code",
   "execution_count": null,
   "metadata": {},
   "outputs": [],
   "source": [
    "#define  RCC_AHB1ENR *((int*)0x40023830)\n",
    "#define  GPIOD_MODER *((int*)0x40020C00)\n",
    "#define  GPIOD_ODR   *((int*)0x40020C14)\n",
    "#define  GPIOA_IDR   *((int*)0x40020C10)\n",
    "\n",
    "int main(){\n",
    "    \n",
    "    int btn;\n",
    "    int i;\n",
    "    \n",
    "    RCC_AHB1ENR = RCC_AHB1ENR | (1<<3); // D portuna clock sinyali\n",
    "    RCC_AHB1ENR = RCC_AHB1ENR | (1<<0); // A portuna clock sinyali\n",
    "    GPIOD_MODER = GPIOD_MODER | (1 << 26);\n",
    "    GPIOD_MODER = GPIOD_MODER | (1 << 30);\n",
    "    \n",
    "    while(1){\n",
    "        btn=(GPIOA_IDR >> 0) & 1UL ; //0 bitin test edilmesi\n",
    "        \n",
    "        if(btn==1){\n",
    "            GPIOD_ODR = GPIOD_ODR | (1UL << 13);\n",
    "            for(i=0;i<1000000;i++);\n",
    "            \n",
    "            GPIOD_ODR = GPIOD_ODR & ~(1UL << 13);\n",
    "            \n",
    "        }else{\n",
    "            GPIOD_ODR = GPIOD_ODR | (1UL << 15);\n",
    "            for(i=0;i<1000000;i++);\n",
    "            \n",
    "            GPIOD_ODR = GPIOD_ODR & ~(1UL << 15);\n",
    "            \n",
    "        }\n",
    "        for(i=0;i<1000000;i++);   \n",
    "    }\n",
    "    return 1;\n",
    "}"
   ]
  }
 ],
 "metadata": {
  "kernelspec": {
   "display_name": "C++14",
   "language": "C++14",
   "name": "xeus-cling-cpp14"
  },
  "language_info": {
   "codemirror_mode": "text/x-c++src",
   "file_extension": ".cpp",
   "mimetype": "text/x-c++src",
   "name": "c++",
   "version": "-std=c++14"
  }
 },
 "nbformat": 4,
 "nbformat_minor": 2
}
